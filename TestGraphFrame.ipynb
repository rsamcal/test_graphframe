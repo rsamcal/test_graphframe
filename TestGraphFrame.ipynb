{
  "nbformat": 4,
  "nbformat_minor": 0,
  "metadata": {
    "colab": {
      "provenance": [],
      "authorship_tag": "ABX9TyPyNvVO6nXxK17b9oU114QV",
      "include_colab_link": true
    },
    "kernelspec": {
      "name": "python3",
      "display_name": "Python 3"
    },
    "language_info": {
      "name": "python"
    }
  },
  "cells": [
    {
      "cell_type": "markdown",
      "metadata": {
        "id": "view-in-github",
        "colab_type": "text"
      },
      "source": [
        "<a href=\"https://colab.research.google.com/github/rsamcal/test_graphframe/blob/main/TestGraphFrame.ipynb\" target=\"_parent\"><img src=\"https://colab.research.google.com/assets/colab-badge.svg\" alt=\"Open In Colab\"/></a>"
      ]
    },
    {
      "cell_type": "code",
      "execution_count": null,
      "metadata": {
        "id": "aVBdtoLFV_Zy"
      },
      "outputs": [],
      "source": [
        "from graphframes import *\n",
        "\n",
        "# Vertices dataframe\n",
        "v = sqlContext.createDataFrame((\n",
        "  ( 1, 2 ), ( 2, 3 ), ( 4, 5 ),\n",
        "  ( 6, 5 ), ( 4, 6 )\n",
        ")).toDF(\"id\", \"id2\")\n",
        "\n",
        "## Edge dataframe\n",
        "e = sqlContext.createDataFrame((\n",
        "  (1, 2, \"is linked to\"),\n",
        "  (2, 3, \"is linked to\"),\n",
        "  (4, 5, \"is linked to\"),\n",
        "  (6, 5, \"is linked to\"),\n",
        "  (4, 6, \"is linked to\")\n",
        ")).toDF(\"src\", \"dst\", \"relationship\")\n",
        "\n",
        "\n",
        "## Create the graph frame\n",
        "g = GraphFrame(v, e)\n",
        "print(g)"
      ]
    }
  ]
}